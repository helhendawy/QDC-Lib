{
 "cells": [
  {
   "cell_type": "markdown",
   "metadata": {},
   "source": [
    "# ENGIE QTEM Data Challenge – 2025  \n",
    "\n",
    "This notebook is a comprehensive and reproducible workflow to solve the ENGIE QTEM Data Challenge. The challenge is focused on optimizing a renewable energy asset portfolio based on weather, production, and market pricing data.\n",
    "\n",
    "### Key Business Questions:\n",
    "- Which combination of renewable energy assets yields the highest production with the least variability?\n",
    "- How do revenue considerations (market price data) affect the optimal portfolio selection?\n",
    "- What are the differences between production-driven and revenue-driven optimization?\n",
    "- How would the results change if real-world inefficiencies (e.g. curtailments) were removed?\n",
    "\n",
    "---\n",
    "\n",
    "### Final Deliverables:\n",
    "- Reproducible optimization models (production & revenue)\n",
    "- Portfolio performance metrics (mean output, standard deviation, volatility)\n",
    "- Comparative analysis & sensitivity insights\n",
    "- Final report and presentation-ready visualizations\n",
    "\n",
    "---\n",
    "\n",
    "### Data Overview:\n",
    "- **Solar Production Sites:** 71 (Belgium, Germany, Netherlands)\n",
    "- **Wind Sites:** 99 (onshore + offshore)\n",
    "- **Weather Variables:** Temperature, wind speed/direction, cloud cover, solar radiation\n",
    "- **Prices:** Quarter-hourly and hourly market prices (Day-Ahead, Intraday, ISP)\n",
    "- **Metadata:** Site locations, variable definitions\n",
    "\n",
    "---\n",
    "\n",
    "## Available Data:\n",
    "\n",
    "- **Solar Data Folder:** Contains files for each solar site:\n",
    "  - Dew Point (`d2m`)\n",
    "  - Total Cloud Cover (`tcc`)\n",
    "  - Temperature (`t2m`)\n",
    "  - Solar Radiation (`ssr`)\n",
    "  - Wind Angle at 10m (`angle10`)\n",
    "  - Wind Speed at 10m (`speed10`)\n",
    "  - Load Factor (`factor`)\n",
    "\n",
    "- **Wind Data Folder:** Contains files for each wind site:\n",
    "  - Wind Angle at 100m (`angle100`)\n",
    "  - Wind Speed at 100m (`speed100`)\n",
    "  - Load Factor (`factor`)\n",
    "\n",
    "- **Price and Liquidity Data:**\n",
    "  - Day Ahead and Intraday prices.\n",
    "\n",
    "- **Additional Files:**\n",
    "  - Sites anonymized data (`sites_anonymized.csv`)\n",
    "  - Data Dictionary (`data_dictionary.xlsx`)"
   ]
  },
  {
   "cell_type": "code",
   "execution_count": 35,
   "metadata": {},
   "outputs": [],
   "source": [
    "import pandas as pd\n",
    "import numpy as np\n",
    "import matplotlib.pyplot as plt\n",
    "import seaborn as sns\n",
    "from datetime import datetime\n",
    "from glob import glob"
   ]
  },
  {
   "cell_type": "markdown",
   "metadata": {},
   "source": [
    "# 1. Comprehensive Data Assessment\n",
    "\n",
    "In this section, we:\n",
    "- Explore metadata to understand the site distribution\n",
    "- Examine weather, production, and price data structure\n",
    "- Identify missing values, timestamp irregularities, and data format issues\n",
    "- Prepare for integration and cleaning"
   ]
  },
  {
   "cell_type": "code",
   "execution_count": 33,
   "metadata": {},
   "outputs": [
    {
     "name": "stderr",
     "output_type": "stream",
     "text": [
      "/var/folders/5f/8x4b66f12jxblmgjlz1qymv80000gn/T/ipykernel_12846/3748134077.py:7: FutureWarning: In a future version of pandas, parsing datetimes with mixed time zones will raise an error unless `utc=True`. Please specify `utc=True` to opt in to the new behaviour and silence this warning. To create a `Series` with mixed offsets and `object` dtype, please use `apply` and `datetime.datetime.strptime`\n",
      "  price_df['datetime'] = pd.to_datetime(price_df['datetime'])\n"
     ]
    }
   ],
   "source": [
    "# Load metadata\n",
    "sites_df = pd.read_csv(\"/Users/hossameldinelhendawy/Documents/QDC-Lib/sites_anonymized.csv\")\n",
    "price_df = pd.read_csv(\"/Users/hossameldinelhendawy/Documents/QDC-Lib/intraday_indices_prices_and_liquidity.csv\")\n",
    "\n",
    "# Datetime column modification\n",
    "price_df.rename(columns={price_df.columns[0]: \"datetime\"}, inplace=True)\n",
    "price_df['datetime'] = pd.to_datetime(price_df['datetime'])"
   ]
  },
  {
   "cell_type": "code",
   "execution_count": 34,
   "metadata": {},
   "outputs": [],
   "source": [
    "# Selection of relevant price columns for Parts 1–4\n",
    "columns_to_keep = ['datetime']\n",
    "\n",
    "# Add DA prices\n",
    "for country in ['BE', 'DE', 'NL']:\n",
    "    col = f'DA_{country}'\n",
    "    if col in price_df.columns:\n",
    "        columns_to_keep.append(col)\n",
    "\n",
    "# Add hourly and QH intraday prices\n",
    "intraday_types = ['ID1', 'ID3', 'IDFull']\n",
    "resolutions = ['Hourly', 'QH']\n",
    "\n",
    "for market in intraday_types:\n",
    "    for resolution in resolutions:\n",
    "        for country in ['BE', 'DE', 'NL']:\n",
    "            col = f'{market}_{resolution}_{country}_price'\n",
    "            if col in price_df.columns:\n",
    "                columns_to_keep.append(col)\n",
    "\n",
    "# Add Imbalance prices\n",
    "for country in ['BE', 'DE', 'NL']:\n",
    "    # Flat ISP\n",
    "    col_flat = f'ISP_{country}'\n",
    "    if col_flat in price_df.columns:\n",
    "        columns_to_keep.append(col_flat)\n",
    "    # NL-specific imbalance split\n",
    "    col_short = f'ISP_SHORT_{country}'\n",
    "    col_long = f'ISP_LONG_{country}'\n",
    "    if col_short in price_df.columns:\n",
    "        columns_to_keep.append(col_short)\n",
    "    if col_long in price_df.columns:\n",
    "        columns_to_keep.append(col_long)\n",
    "\n",
    "# Apply filter\n",
    "price_cleaned_df = price_df[columns_to_keep].copy()"
   ]
  },
  {
   "cell_type": "markdown",
   "metadata": {},
   "source": [
    "### 📊 Price & Liquidity Data Cleaning Summary\n",
    "\n",
    "We started with a raw pricing dataset containing 59 columns and 132,310 timestamped records, covering multiple market types (Day-Ahead, Intraday, Imbalance) across Belgium (BE), Germany (DE), the Netherlands (NL), and France (FR).\n",
    "\n",
    "#### ✅ Actions Taken:\n",
    "- Removed all `volume` columns, which are not required in the ENGIE optimization objective (no use for liquidity or transaction volume).\n",
    "- Dropped all columns related to France (`FR`) since the challenge scope is limited to BE, DE, and NL.\n",
    "- Excluded rarely populated or redundant formats such as half-hour (HH) pricing and kept only **Hourly and Quarter-Hourly (QH)** series where reasonably populated.\n",
    "- Retained all Day-Ahead (`DA_*`) pricing columns.\n",
    "- Retained relevant Intraday pricing layers: `ID1`, `ID3`, and `IDFull`, for both `Hourly` and `QH` formats.\n",
    "- Retained flat imbalance prices `ISP_*`, as well as `ISP_SHORT_NL` and `ISP_LONG_NL` for modeling imbalance market logic in Part 2 or Part 4.\n",
    "\n",
    "#### 📦 Resulting Dataset:\n",
    "- Final shape: **132,310 rows × 26 columns**\n",
    "- Includes all pricing columns required for Parts **2, 3, and 4** of the challenge.\n",
    "- Structured to support reproducible modeling and easy merging with production and weather data."
   ]
  },
  {
   "cell_type": "code",
   "execution_count": null,
   "metadata": {},
   "outputs": [],
   "source": []
  }
 ],
 "metadata": {
  "kernelspec": {
   "display_name": "QDC",
   "language": "python",
   "name": "python3"
  },
  "language_info": {
   "codemirror_mode": {
    "name": "ipython",
    "version": 3
   },
   "file_extension": ".py",
   "mimetype": "text/x-python",
   "name": "python",
   "nbconvert_exporter": "python",
   "pygments_lexer": "ipython3",
   "version": "3.13.2"
  }
 },
 "nbformat": 4,
 "nbformat_minor": 2
}
